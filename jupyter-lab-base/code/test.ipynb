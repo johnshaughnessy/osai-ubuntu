{
 "cells": [
  {
   "cell_type": "code",
   "execution_count": 19,
   "id": "92c691ef-549f-43a3-a0f5-18739ee7a3f8",
   "metadata": {},
   "outputs": [
    {
     "name": "stdout",
     "output_type": "stream",
     "text": [
      "huggingface-hub is available!\n"
     ]
    }
   ],
   "source": [
    "# This test should succeed in the diffusion-nbs\n",
    "res = !pip show huggingface-hub\n",
    "\n",
    "if res :\n",
    "    print(\"huggingface-hub is available!\")\n",
    "else:\n",
    "    print(\"huggingface-hub is not availabe.\")"
   ]
  },
  {
   "cell_type": "code",
   "execution_count": null,
   "id": "3a2f0dca-a5af-4f0d-8a51-53b1a5c7f94c",
   "metadata": {},
   "outputs": [],
   "source": []
  }
 ],
 "metadata": {
  "kernelspec": {
   "display_name": "Python 3 (ipykernel)",
   "language": "python",
   "name": "python3"
  },
  "language_info": {
   "codemirror_mode": {
    "name": "ipython",
    "version": 3
   },
   "file_extension": ".py",
   "mimetype": "text/x-python",
   "name": "python",
   "nbconvert_exporter": "python",
   "pygments_lexer": "ipython3",
   "version": "3.10.12"
  }
 },
 "nbformat": 4,
 "nbformat_minor": 5
}
